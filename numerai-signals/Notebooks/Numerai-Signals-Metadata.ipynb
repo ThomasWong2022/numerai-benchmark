{
 "cells": [
  {
   "cell_type": "code",
   "execution_count": 1,
   "metadata": {},
   "outputs": [],
   "source": [
    "import pandas as pd"
   ]
  },
  {
   "cell_type": "code",
   "execution_count": 2,
   "metadata": {},
   "outputs": [],
   "source": [
    "pd.set_option('display.max_columns', 200)\n",
    "pd.set_option('display.max_rows', 500)\n",
    "pd.set_option('display.width', 1000)"
   ]
  },
  {
   "cell_type": "markdown",
   "metadata": {},
   "source": [
    "#### Download Numerai Historical Targets "
   ]
  },
  {
   "cell_type": "code",
   "execution_count": 8,
   "metadata": {},
   "outputs": [],
   "source": [
    "### Download data at 2022-02-28 to get all the targets up to 2021 Dec \n",
    "download_data = True\n",
    "signals_raw_targets = '../signals-data/signals_train_val_bbg_2021.parquet'\n",
    "if download_data:\n",
    "    #bbg = pd.read_csv('https://numerai-signals-public-data.s3-us-west-2.amazonaws.com/signals_train_val_bbg.csv')\n",
    "    bbg.to_parquet(signals_raw_targets )"
   ]
  },
  {
   "cell_type": "code",
   "execution_count": 9,
   "metadata": {},
   "outputs": [],
   "source": [
    "bbg = pd.read_parquet(signals_raw_targets )\n",
    "bbg['ticker'] = bbg['bloomberg_ticker'].str.split(' ',expand=True)[0]\n",
    "bbg['country'] = bbg['bloomberg_ticker'].str.split(' ',expand=True)[1]\n",
    "bbg['date'] = pd.to_datetime(bbg['friday_date'],format='%Y%m%d')"
   ]
  },
  {
   "cell_type": "code",
   "execution_count": 10,
   "metadata": {},
   "outputs": [
    {
     "data": {
      "text/plain": [
       "<AxesSubplot:xlabel='date'>"
      ]
     },
     "execution_count": 10,
     "metadata": {},
     "output_type": "execute_result"
    },
    {
     "data": {
      "image/png": "[encoded data removed]",
      "text/plain": [
       "<Figure size 432x288 with 1 Axes>"
      ]
     },
     "metadata": {
      "needs_background": "light"
     },
     "output_type": "display_data"
    }
   ],
   "source": [
    "bbg.groupby('date')['target_4d'].agg(['count']).plot()"
   ]
  },
  {
   "cell_type": "code",
   "execution_count": 11,
   "metadata": {},
   "outputs": [],
   "source": [
    "numerai_metadata = bbg[bbg['country']=='US'].groupby('bloomberg_ticker')['date'].agg(['max','min',])\n",
    "numerai_metadata.columns = ['numerai_exit_date','numerai_entry_date',]\n",
    "numerai_metadata.reset_index(inplace=True)\n",
    "numerai_metadata['ticker'] = numerai_metadata['bloomberg_ticker'].str.split(' ',expand=True)[0]"
   ]
  },
  {
   "cell_type": "code",
   "execution_count": 12,
   "metadata": {},
   "outputs": [
    {
     "data": {
      "text/html": [
       "<div>\n",
       "<style scoped>\n",
       "    .dataframe tbody tr th:only-of-type {\n",
       "        vertical-align: middle;\n",
       "    }\n",
       "\n",
       "    .dataframe tbody tr th {\n",
       "        vertical-align: top;\n",
       "    }\n",
       "\n",
       "    .dataframe thead th {\n",
       "        text-align: right;\n",
       "    }\n",
       "</style>\n",
       "<table border=\"1\" class=\"dataframe\">\n",
       "  <thead>\n",
       "    <tr style=\"text-align: right;\">\n",
       "      <th></th>\n",
       "      <th>bloomberg_ticker</th>\n",
       "      <th>numerai_exit_date</th>\n",
       "      <th>numerai_entry_date</th>\n",
       "      <th>ticker</th>\n",
       "    </tr>\n",
       "  </thead>\n",
       "  <tbody>\n",
       "    <tr>\n",
       "      <th>0</th>\n",
       "      <td>106760Q US</td>\n",
       "      <td>2008-10-24</td>\n",
       "      <td>2003-01-31</td>\n",
       "      <td>106760Q</td>\n",
       "    </tr>\n",
       "    <tr>\n",
       "      <th>1</th>\n",
       "      <td>1108Q US</td>\n",
       "      <td>2005-08-05</td>\n",
       "      <td>2003-01-31</td>\n",
       "      <td>1108Q</td>\n",
       "    </tr>\n",
       "    <tr>\n",
       "      <th>2</th>\n",
       "      <td>1323Q US</td>\n",
       "      <td>2004-06-18</td>\n",
       "      <td>2004-04-23</td>\n",
       "      <td>1323Q</td>\n",
       "    </tr>\n",
       "    <tr>\n",
       "      <th>3</th>\n",
       "      <td>1365732D US</td>\n",
       "      <td>2015-12-18</td>\n",
       "      <td>2010-07-02</td>\n",
       "      <td>1365732D</td>\n",
       "    </tr>\n",
       "    <tr>\n",
       "      <th>4</th>\n",
       "      <td>1482276D US</td>\n",
       "      <td>2017-01-13</td>\n",
       "      <td>2003-01-31</td>\n",
       "      <td>1482276D</td>\n",
       "    </tr>\n",
       "    <tr>\n",
       "      <th>...</th>\n",
       "      <td>...</td>\n",
       "      <td>...</td>\n",
       "      <td>...</td>\n",
       "      <td>...</td>\n",
       "    </tr>\n",
       "    <tr>\n",
       "      <th>6071</th>\n",
       "      <td>ZVO US</td>\n",
       "      <td>2015-04-24</td>\n",
       "      <td>2010-03-26</td>\n",
       "      <td>ZVO</td>\n",
       "    </tr>\n",
       "    <tr>\n",
       "      <th>6072</th>\n",
       "      <td>ZWS US</td>\n",
       "      <td>2022-10-07</td>\n",
       "      <td>2021-10-08</td>\n",
       "      <td>ZWS</td>\n",
       "    </tr>\n",
       "    <tr>\n",
       "      <th>6073</th>\n",
       "      <td>ZY US</td>\n",
       "      <td>2022-06-24</td>\n",
       "      <td>2022-01-14</td>\n",
       "      <td>ZY</td>\n",
       "    </tr>\n",
       "    <tr>\n",
       "      <th>6074</th>\n",
       "      <td>ZYXI US</td>\n",
       "      <td>2022-10-07</td>\n",
       "      <td>2019-07-12</td>\n",
       "      <td>ZYXI</td>\n",
       "    </tr>\n",
       "    <tr>\n",
       "      <th>6075</th>\n",
       "      <td>ZZ US</td>\n",
       "      <td>2012-04-27</td>\n",
       "      <td>2006-12-29</td>\n",
       "      <td>ZZ</td>\n",
       "    </tr>\n",
       "  </tbody>\n",
       "</table>\n",
       "<p>6076 rows × 4 columns</p>\n",
       "</div>"
      ],
      "text/plain": [
       "     bloomberg_ticker numerai_exit_date numerai_entry_date    ticker\n",
       "0          106760Q US        2008-10-24         2003-01-31   106760Q\n",
       "1            1108Q US        2005-08-05         2003-01-31     1108Q\n",
       "2            1323Q US        2004-06-18         2004-04-23     1323Q\n",
       "3         1365732D US        2015-12-18         2010-07-02  1365732D\n",
       "4         1482276D US        2017-01-13         2003-01-31  1482276D\n",
       "...               ...               ...                ...       ...\n",
       "6071           ZVO US        2015-04-24         2010-03-26       ZVO\n",
       "6072           ZWS US        2022-10-07         2021-10-08       ZWS\n",
       "6073            ZY US        2022-06-24         2022-01-14        ZY\n",
       "6074          ZYXI US        2022-10-07         2019-07-12      ZYXI\n",
       "6075            ZZ US        2012-04-27         2006-12-29        ZZ\n",
       "\n",
       "[6076 rows x 4 columns]"
      ]
     },
     "execution_count": 12,
     "metadata": {},
     "output_type": "execute_result"
    }
   ],
   "source": [
    "numerai_metadata"
   ]
  },
  {
   "cell_type": "code",
   "execution_count": null,
   "metadata": {},
   "outputs": [],
   "source": []
  },
  {
   "cell_type": "code",
   "execution_count": null,
   "metadata": {},
   "outputs": [],
   "source": []
  },
  {
   "cell_type": "markdown",
   "metadata": {},
   "source": [
    "#### Create Metadata (US stocks) \n",
    "\n",
    "\n",
    "Merge Metables of Numerai, Compustat, CRSP, SEC EDGAR, Option Metrics, Ravenpack to find tickers that have price, option and sentiment data \n",
    "\n",
    "\n",
    "1. Merge Numerai With CRSP using CRSP names (Map between bloomberg ticker and historical ticker)\n",
    "2. Merge with Compustat using Compustat security (Map between cusip)\n",
    "3. Merge with Compustat using Compustat history to get historical industry code (Map between gvkey)\n",
    "4. Merge with Option Metrics using Option Metrics Names (Map between cusip)\n",
    "5. Merge with RavenPack Company names  (Map between isin)\n",
    "\n"
   ]
  },
  {
   "cell_type": "code",
   "execution_count": null,
   "metadata": {},
   "outputs": [],
   "source": [
    "### Compustat Company history point in time starts in 2007, \n",
    "refyear = 2021\n",
    "crsp_link = pd.read_csv(f'../../data/CRSP_names_{refyear}.csv').dropna(subset=['permno'])\n",
    "compustat_security_hist = pd.read_csv(f'../../data/Compustat_security_hist_{refyear}.csv').dropna(subset=['hisin'])\n",
    "compustat_company_hist = pd.read_csv(f'../../data/Compustat_company_hist_{refyear}.csv').dropna(subset=['hgsubind'])\n",
    "option_metrics_link = pd.read_csv(f'../../data/Option_Metrics_names_{refyear}.csv').dropna(subset=['secid'])\n",
    "raven_pack_link = pd.read_csv(f'../../data/Ravenpack_wrds_rpa_company_names_{refyear}.csv').dropna(subset=['ticker'])"
   ]
  },
  {
   "cell_type": "code",
   "execution_count": null,
   "metadata": {},
   "outputs": [],
   "source": [
    "compustat_security_hist['hschgenddt'] = compustat_security_hist['hschgenddt'].fillna('2099-12-31')"
   ]
  },
  {
   "cell_type": "code",
   "execution_count": null,
   "metadata": {},
   "outputs": [],
   "source": [
    "## Merge CRSP with Numerai \n",
    "compustat_hist_merged = numerai_metadata.merge(crsp_link,left_on='ticker',right_on='ticker',how='left',)"
   ]
  },
  {
   "cell_type": "code",
   "execution_count": null,
   "metadata": {},
   "outputs": [],
   "source": [
    "## Merge with Compustat Security history \n",
    "compustat_security_hist['hscusip8'] = [str(x)[:8] for x in compustat_security_hist['hscusip']]\n",
    "compustat_hist_merged = compustat_hist_merged.merge(compustat_security_hist,left_on='ncusip',right_on='hscusip8',how='left',)"
   ]
  },
  {
   "cell_type": "code",
   "execution_count": null,
   "metadata": {},
   "outputs": [],
   "source": [
    "### Keep only entries that exist after entering numerai universe\n",
    "compustat_hist_merged['nameendt'] = pd.to_datetime(compustat_hist_merged['nameendt'])\n",
    "compustat_hist_merged = compustat_hist_merged[compustat_hist_merged['nameendt']>=compustat_hist_merged['numerai_entry_date']]"
   ]
  },
  {
   "cell_type": "code",
   "execution_count": null,
   "metadata": {},
   "outputs": [],
   "source": [
    "compustat_hist_merged.drop_duplicates(subset=['bloomberg_ticker','permno','gvkey','namedt','nameendt',],inplace=True)"
   ]
  },
  {
   "cell_type": "code",
   "execution_count": null,
   "metadata": {},
   "outputs": [],
   "source": [
    "compustat_hist_merged.shape"
   ]
  },
  {
   "cell_type": "code",
   "execution_count": null,
   "metadata": {},
   "outputs": [],
   "source": []
  },
  {
   "cell_type": "code",
   "execution_count": null,
   "metadata": {},
   "outputs": [],
   "source": [
    "## Merge with Company history to get historical industry code\n",
    "compustat_hist_merged = compustat_hist_merged.merge(compustat_company_hist,left_on='gvkey',right_on='gvkey',how='left',)"
   ]
  },
  {
   "cell_type": "code",
   "execution_count": null,
   "metadata": {},
   "outputs": [],
   "source": [
    "compustat_hist_merged['hchgenddt'] = compustat_hist_merged['hchgenddt'].fillna('2099-12-31')"
   ]
  },
  {
   "cell_type": "code",
   "execution_count": null,
   "metadata": {},
   "outputs": [],
   "source": [
    "compustat_hist_merged_valid = compustat_hist_merged.dropna(subset=['gvkey', 'hgind', 'hchgdt', 'hchgenddt',])"
   ]
  },
  {
   "cell_type": "code",
   "execution_count": null,
   "metadata": {},
   "outputs": [],
   "source": []
  },
  {
   "cell_type": "code",
   "execution_count": null,
   "metadata": {},
   "outputs": [],
   "source": [
    "## Create Change table when industry code or name is changed \n",
    "requried_cols = ['bloomberg_ticker', 'numerai_exit_date', 'numerai_entry_date', \n",
    "                 'gvkey', 'permno', 'hgsubind', 'hconm', 'hcik', 'hisin', 'ncusip',]\n",
    "add_cols = ['hchgdt', 'hchgenddt', 'namedt', 'nameendt',]"
   ]
  },
  {
   "cell_type": "code",
   "execution_count": null,
   "metadata": {},
   "outputs": [],
   "source": [
    "numerai_valid = compustat_hist_merged_valid.groupby(requried_cols)[add_cols].agg(['max','min',])\n",
    "numerai_valid['map_start'] = numerai_valid['hchgdt']['min']\n",
    "numerai_valid['map_end'] = numerai_valid['hchgenddt']['max']\n",
    "numerai_valid['crsp_start'] = numerai_valid['namedt']['min']\n",
    "numerai_valid['crsp_end'] = numerai_valid['nameendt']['max']"
   ]
  },
  {
   "cell_type": "code",
   "execution_count": null,
   "metadata": {},
   "outputs": [],
   "source": [
    "compustat_hist_merged_filtered = numerai_valid[['map_start','map_end','crsp_start','crsp_end',]].reset_index()\n",
    "compustat_hist_merged_filtered.columns = [x[0] for x in compustat_hist_merged_filtered.columns]"
   ]
  },
  {
   "cell_type": "code",
   "execution_count": null,
   "metadata": {},
   "outputs": [],
   "source": [
    "## Merge with Option Metrics\n",
    "compustat_hist_merged_filtered = compustat_hist_merged_filtered.merge(option_metrics_link,left_on='ncusip',right_on='cusip',how='left',).drop_duplicates(subset=requried_cols+['secid'])"
   ]
  },
  {
   "cell_type": "code",
   "execution_count": null,
   "metadata": {},
   "outputs": [],
   "source": [
    "## Merge with Ravenpack \n",
    "output = compustat_hist_merged_filtered.merge(raven_pack_link[['rp_entity_id','isin']],left_on='hisin',right_on='isin',how='left',).drop_duplicates(subset=requried_cols+['rp_entity_id']).dropna(subset=['rp_entity_id'])"
   ]
  },
  {
   "cell_type": "code",
   "execution_count": null,
   "metadata": {},
   "outputs": [],
   "source": [
    "## Save output \n",
    "requried_cols = requried_cols + ['secid','rp_entity_id'] + ['map_start','map_end', 'crsp_start', 'crsp_end',]\n",
    "output[requried_cols].drop_duplicates().to_csv('data/numerai_signals_metadata_2021.csv',index=False)"
   ]
  },
  {
   "cell_type": "code",
   "execution_count": null,
   "metadata": {},
   "outputs": [],
   "source": []
  },
  {
   "cell_type": "code",
   "execution_count": null,
   "metadata": {},
   "outputs": [],
   "source": []
  },
  {
   "cell_type": "code",
   "execution_count": null,
   "metadata": {},
   "outputs": [],
   "source": []
  },
  {
   "cell_type": "markdown",
   "metadata": {},
   "source": [
    "#### Analyse Missing tickers "
   ]
  },
  {
   "cell_type": "code",
   "execution_count": null,
   "metadata": {},
   "outputs": [],
   "source": [
    "numerai_metadata_filtered = pd.read_csv('data/numerai_signals_metadata_2021.csv')"
   ]
  },
  {
   "cell_type": "code",
   "execution_count": null,
   "metadata": {},
   "outputs": [],
   "source": [
    "numerai_metadata_filtered.shape"
   ]
  },
  {
   "cell_type": "code",
   "execution_count": null,
   "metadata": {},
   "outputs": [],
   "source": [
    "numerai_metadata_filtered.drop_duplicates('bloomberg_ticker').shape"
   ]
  },
  {
   "cell_type": "code",
   "execution_count": null,
   "metadata": {},
   "outputs": [],
   "source": [
    "tickers_not_mapped = set(numerai_metadata['bloomberg_ticker']) - set(numerai_metadata_filtered['bloomberg_ticker'])"
   ]
  },
  {
   "cell_type": "code",
   "execution_count": null,
   "metadata": {},
   "outputs": [],
   "source": [
    "len(tickers_not_mapped)"
   ]
  },
  {
   "cell_type": "code",
   "execution_count": null,
   "metadata": {},
   "outputs": [],
   "source": [
    "numerai_metadata[numerai_metadata['bloomberg_ticker'].isin(tickers_not_mapped)]"
   ]
  },
  {
   "cell_type": "code",
   "execution_count": null,
   "metadata": {},
   "outputs": [],
   "source": []
  },
  {
   "cell_type": "code",
   "execution_count": null,
   "metadata": {},
   "outputs": [],
   "source": []
  },
  {
   "cell_type": "code",
   "execution_count": null,
   "metadata": {},
   "outputs": [],
   "source": []
  },
  {
   "cell_type": "markdown",
   "metadata": {},
   "source": [
    "### Target Processing \n",
    "\n",
    "1. Filter targets to the required US stocks (based on metadata table we built)\n",
    "2. Create id index (formed by friday_date and bloomberg_ticker), Create era column (friday_date in pd.datetime format)\n",
    "3. Save parquet file (with id index), era, target_4d, target_20d as columns "
   ]
  },
  {
   "cell_type": "code",
   "execution_count": 13,
   "metadata": {},
   "outputs": [],
   "source": [
    "bbg = pd.read_parquet(signals_raw_targets)"
   ]
  },
  {
   "cell_type": "code",
   "execution_count": 15,
   "metadata": {},
   "outputs": [],
   "source": [
    "numerai_metadata_filtered = pd.read_csv('../signals-data/numerai_signals_metadata_2021.csv')"
   ]
  },
  {
   "cell_type": "code",
   "execution_count": 16,
   "metadata": {},
   "outputs": [],
   "source": [
    "filtered_targets = bbg[bbg['bloomberg_ticker'].isin(numerai_metadata_filtered['bloomberg_ticker'])]"
   ]
  },
  {
   "cell_type": "code",
   "execution_count": 17,
   "metadata": {},
   "outputs": [
    {
     "name": "stderr",
     "output_type": "stream",
     "text": [
      "/opt/conda/lib/python3.7/site-packages/ipykernel_launcher.py:1: SettingWithCopyWarning: \n",
      "A value is trying to be set on a copy of a slice from a DataFrame.\n",
      "Try using .loc[row_indexer,col_indexer] = value instead\n",
      "\n",
      "See the caveats in the documentation: https://pandas.pydata.org/pandas-docs/stable/user_guide/indexing.html#returning-a-view-versus-a-copy\n",
      "  \"\"\"Entry point for launching an IPython kernel.\n"
     ]
    }
   ],
   "source": [
    "filtered_targets['date'] = pd.to_datetime(filtered_targets['friday_date'],format='%Y%m%d')"
   ]
  },
  {
   "cell_type": "code",
   "execution_count": 19,
   "metadata": {},
   "outputs": [
    {
     "name": "stderr",
     "output_type": "stream",
     "text": [
      "/opt/conda/lib/python3.7/site-packages/ipykernel_launcher.py:1: SettingWithCopyWarning: \n",
      "A value is trying to be set on a copy of a slice from a DataFrame.\n",
      "Try using .loc[row_indexer,col_indexer] = value instead\n",
      "\n",
      "See the caveats in the documentation: https://pandas.pydata.org/pandas-docs/stable/user_guide/indexing.html#returning-a-view-versus-a-copy\n",
      "  \"\"\"Entry point for launching an IPython kernel.\n"
     ]
    }
   ],
   "source": [
    "filtered_targets['era'] = filtered_targets['date']\n",
    "filtered_targets.set_index(['friday_date','bloomberg_ticker'],inplace=True)\n",
    "output_cols = ['era','target_4d','target_20d','raw_return_target_20d', 'factor_neutral_target_20d', 'factor_feat_neutral_target_20d', ]\n",
    "filtered_targets[output_cols].to_parquet('../signals-data/numerai_signals_target_2021.parquet')"
   ]
  },
  {
   "cell_type": "code",
   "execution_count": 20,
   "metadata": {},
   "outputs": [
    {
     "data": {
      "text/html": [
       "<div>\n",
       "<style scoped>\n",
       "    .dataframe tbody tr th:only-of-type {\n",
       "        vertical-align: middle;\n",
       "    }\n",
       "\n",
       "    .dataframe tbody tr th {\n",
       "        vertical-align: top;\n",
       "    }\n",
       "\n",
       "    .dataframe thead th {\n",
       "        text-align: right;\n",
       "    }\n",
       "</style>\n",
       "<table border=\"1\" class=\"dataframe\">\n",
       "  <thead>\n",
       "    <tr style=\"text-align: right;\">\n",
       "      <th></th>\n",
       "      <th>era</th>\n",
       "      <th>target_4d</th>\n",
       "      <th>target_20d</th>\n",
       "      <th>raw_return_target_20d</th>\n",
       "      <th>factor_neutral_target_20d</th>\n",
       "      <th>factor_feat_neutral_target_20d</th>\n",
       "    </tr>\n",
       "    <tr>\n",
       "      <th>bloomberg_ticker</th>\n",
       "      <th></th>\n",
       "      <th></th>\n",
       "      <th></th>\n",
       "      <th></th>\n",
       "      <th></th>\n",
       "      <th></th>\n",
       "    </tr>\n",
       "  </thead>\n",
       "  <tbody>\n",
       "    <tr>\n",
       "      <th>A US</th>\n",
       "      <td>2021-12-31</td>\n",
       "      <td>0.50</td>\n",
       "      <td>0.50</td>\n",
       "      <td>0.50</td>\n",
       "      <td>0.50</td>\n",
       "      <td>0.50</td>\n",
       "    </tr>\n",
       "    <tr>\n",
       "      <th>AA US</th>\n",
       "      <td>2021-12-31</td>\n",
       "      <td>1.00</td>\n",
       "      <td>0.75</td>\n",
       "      <td>0.75</td>\n",
       "      <td>0.75</td>\n",
       "      <td>0.75</td>\n",
       "    </tr>\n",
       "    <tr>\n",
       "      <th>AAL US</th>\n",
       "      <td>2021-12-31</td>\n",
       "      <td>0.50</td>\n",
       "      <td>0.25</td>\n",
       "      <td>0.50</td>\n",
       "      <td>0.50</td>\n",
       "      <td>0.25</td>\n",
       "    </tr>\n",
       "    <tr>\n",
       "      <th>AAN US</th>\n",
       "      <td>2021-12-31</td>\n",
       "      <td>0.25</td>\n",
       "      <td>0.25</td>\n",
       "      <td>0.25</td>\n",
       "      <td>0.50</td>\n",
       "      <td>0.25</td>\n",
       "    </tr>\n",
       "    <tr>\n",
       "      <th>AAON US</th>\n",
       "      <td>2021-12-31</td>\n",
       "      <td>0.50</td>\n",
       "      <td>0.25</td>\n",
       "      <td>0.25</td>\n",
       "      <td>0.25</td>\n",
       "      <td>0.25</td>\n",
       "    </tr>\n",
       "    <tr>\n",
       "      <th>...</th>\n",
       "      <td>...</td>\n",
       "      <td>...</td>\n",
       "      <td>...</td>\n",
       "      <td>...</td>\n",
       "      <td>...</td>\n",
       "      <td>...</td>\n",
       "    </tr>\n",
       "    <tr>\n",
       "      <th>ZS US</th>\n",
       "      <td>2021-12-31</td>\n",
       "      <td>1.00</td>\n",
       "      <td>0.75</td>\n",
       "      <td>0.50</td>\n",
       "      <td>0.75</td>\n",
       "      <td>0.75</td>\n",
       "    </tr>\n",
       "    <tr>\n",
       "      <th>ZTS US</th>\n",
       "      <td>2021-12-31</td>\n",
       "      <td>0.50</td>\n",
       "      <td>0.50</td>\n",
       "      <td>0.50</td>\n",
       "      <td>0.50</td>\n",
       "      <td>0.50</td>\n",
       "    </tr>\n",
       "    <tr>\n",
       "      <th>ZUMZ US</th>\n",
       "      <td>2021-12-31</td>\n",
       "      <td>0.25</td>\n",
       "      <td>0.50</td>\n",
       "      <td>0.50</td>\n",
       "      <td>0.50</td>\n",
       "      <td>0.50</td>\n",
       "    </tr>\n",
       "    <tr>\n",
       "      <th>ZUO US</th>\n",
       "      <td>2021-12-31</td>\n",
       "      <td>0.25</td>\n",
       "      <td>0.75</td>\n",
       "      <td>0.50</td>\n",
       "      <td>0.50</td>\n",
       "      <td>0.75</td>\n",
       "    </tr>\n",
       "    <tr>\n",
       "      <th>ZYXI US</th>\n",
       "      <td>2021-12-31</td>\n",
       "      <td>0.75</td>\n",
       "      <td>0.50</td>\n",
       "      <td>0.25</td>\n",
       "      <td>0.50</td>\n",
       "      <td>0.50</td>\n",
       "    </tr>\n",
       "  </tbody>\n",
       "</table>\n",
       "<p>2256 rows × 6 columns</p>\n",
       "</div>"
      ],
      "text/plain": [
       "                        era  target_4d  target_20d  raw_return_target_20d  factor_neutral_target_20d  factor_feat_neutral_target_20d\n",
       "bloomberg_ticker                                                                                                                    \n",
       "A US             2021-12-31       0.50        0.50                   0.50                       0.50                            0.50\n",
       "AA US            2021-12-31       1.00        0.75                   0.75                       0.75                            0.75\n",
       "AAL US           2021-12-31       0.50        0.25                   0.50                       0.50                            0.25\n",
       "AAN US           2021-12-31       0.25        0.25                   0.25                       0.50                            0.25\n",
       "AAON US          2021-12-31       0.50        0.25                   0.25                       0.25                            0.25\n",
       "...                     ...        ...         ...                    ...                        ...                             ...\n",
       "ZS US            2021-12-31       1.00        0.75                   0.50                       0.75                            0.75\n",
       "ZTS US           2021-12-31       0.50        0.50                   0.50                       0.50                            0.50\n",
       "ZUMZ US          2021-12-31       0.25        0.50                   0.50                       0.50                            0.50\n",
       "ZUO US           2021-12-31       0.25        0.75                   0.50                       0.50                            0.75\n",
       "ZYXI US          2021-12-31       0.75        0.50                   0.25                       0.50                            0.50\n",
       "\n",
       "[2256 rows x 6 columns]"
      ]
     },
     "execution_count": 20,
     "metadata": {},
     "output_type": "execute_result"
    }
   ],
   "source": [
    "pd.read_parquet('../signals-data/numerai_signals_target_2021.parquet').loc[20211231]"
   ]
  },
  {
   "cell_type": "code",
   "execution_count": null,
   "metadata": {},
   "outputs": [],
   "source": []
  },
  {
   "cell_type": "code",
   "execution_count": null,
   "metadata": {},
   "outputs": [],
   "source": []
  },
  {
   "cell_type": "markdown",
   "metadata": {},
   "source": [
    "### Generate Public Version of metadata \n",
    "\n",
    "Remove isin and cusip which are subject to database copyright. "
   ]
  },
  {
   "cell_type": "code",
   "execution_count": null,
   "metadata": {},
   "outputs": [],
   "source": [
    "numerai_metadata_filtered = pd.read_csv('data/numerai_signals_stock_metadata_2021.csv')"
   ]
  },
  {
   "cell_type": "code",
   "execution_count": null,
   "metadata": {},
   "outputs": [],
   "source": [
    "public_cols = ['bloomberg_ticker','numerai_exit_date', 'numerai_entry_date', 'hconm', 'hcik', 'crsp_start', 'crsp_end',]"
   ]
  },
  {
   "cell_type": "code",
   "execution_count": null,
   "metadata": {},
   "outputs": [],
   "source": [
    "numerai_metadata_filtered[public_cols].drop_duplicates().to_csv('data/numerai_signals_stock_metadata_public_2021.csv',index=False)"
   ]
  },
  {
   "cell_type": "code",
   "execution_count": null,
   "metadata": {},
   "outputs": [],
   "source": []
  },
  {
   "cell_type": "markdown",
   "metadata": {},
   "source": [
    "### Create Dataset for Public Release \n"
   ]
  },
  {
   "cell_type": "code",
   "execution_count": 2,
   "metadata": {},
   "outputs": [],
   "source": [
    "import numpy as np\n",
    "import pandas as pd"
   ]
  },
  {
   "cell_type": "code",
   "execution_count": 8,
   "metadata": {},
   "outputs": [],
   "source": [
    "## Read Train Data\n",
    "target = pd.read_parquet(\"../signals-data/numerai_signals_target_2021.parquet\").dropna()\n",
    "target = target[\n",
    "    (target[\"era\"] <= \"2021-12-31\") & (target[\"era\"] >= \"2002-12-31\")\n",
    "]\n",
    "train_data = target.copy()\n",
    "\n",
    "features_metadata = dict()\n",
    "features_metadata['feature_sets'] = dict()\n",
    "\n",
    "for feature_set in ['stats', 'signature', 'catch22', 'ravenpack', 'financials', ]:\n",
    "    feature_normalised = pd.read_parquet(f'../signals-data/numerai_signals_features_{feature_set}_normalised.parquet').astype(np.int8)\n",
    "    feature_col = [col for col in feature_normalised.columns if not col.__contains__(\"sector_ranked\")] \n",
    "    features_metadata['feature_sets'][feature_set] = feature_col\n",
    "    train_data = train_data.merge(feature_normalised[feature_col],how='inner',left_index=True, right_index=True)\n"
   ]
  },
  {
   "cell_type": "code",
   "execution_count": 9,
   "metadata": {},
   "outputs": [],
   "source": [
    "train_data.to_parquet(\"../signals-data/numerai_signals_features_all.parquet\")"
   ]
  },
  {
   "cell_type": "code",
   "execution_count": 10,
   "metadata": {},
   "outputs": [],
   "source": [
    "import json\n",
    "with open(\"../signals-data/numerai_signals_features_all_metadata.json\", \"w\") as f:\n",
    "    json.dump(features_metadata,f)"
   ]
  },
  {
   "cell_type": "code",
   "execution_count": 11,
   "metadata": {},
   "outputs": [
    {
     "data": {
      "text/plain": [
       "Index(['era', 'target_4d', 'target_20d', 'raw_return_target_20d',\n",
       "       'factor_neutral_target_20d', 'factor_feat_neutral_target_20d',\n",
       "       'feature_momentum_21_ranked', 'feature_momentum_63_ranked',\n",
       "       'feature_momentum_252_ranked', 'feature_volatility_21_ranked',\n",
       "       ...\n",
       "       'feature_TrendFactor_ranked', 'feature_UpRecomm_ranked',\n",
       "       'feature_VarCF_ranked', 'feature_VolMkt_ranked', 'feature_VolSD_ranked',\n",
       "       'feature_VolumeTrend_ranked', 'feature_XFIN_ranked',\n",
       "       'feature_zerotrade_ranked', 'feature_zerotradeAlt1_ranked',\n",
       "       'feature_zerotradeAlt12_ranked'],\n",
       "      dtype='object', length=588)"
      ]
     },
     "execution_count": 11,
     "metadata": {},
     "output_type": "execute_result"
    }
   ],
   "source": [
    "train_data.columns"
   ]
  },
  {
   "cell_type": "code",
   "execution_count": 12,
   "metadata": {},
   "outputs": [
    {
     "data": {
      "text/html": [
       "<div>\n",
       "<style scoped>\n",
       "    .dataframe tbody tr th:only-of-type {\n",
       "        vertical-align: middle;\n",
       "    }\n",
       "\n",
       "    .dataframe tbody tr th {\n",
       "        vertical-align: top;\n",
       "    }\n",
       "\n",
       "    .dataframe thead th {\n",
       "        text-align: right;\n",
       "    }\n",
       "</style>\n",
       "<table border=\"1\" class=\"dataframe\">\n",
       "  <thead>\n",
       "    <tr style=\"text-align: right;\">\n",
       "      <th></th>\n",
       "      <th>era</th>\n",
       "      <th>target_4d</th>\n",
       "      <th>target_20d</th>\n",
       "      <th>raw_return_target_20d</th>\n",
       "      <th>factor_neutral_target_20d</th>\n",
       "      <th>factor_feat_neutral_target_20d</th>\n",
       "      <th>feature_momentum_21_ranked</th>\n",
       "      <th>feature_momentum_63_ranked</th>\n",
       "      <th>feature_momentum_252_ranked</th>\n",
       "      <th>feature_volatility_21_ranked</th>\n",
       "      <th>...</th>\n",
       "      <th>feature_TrendFactor_ranked</th>\n",
       "      <th>feature_UpRecomm_ranked</th>\n",
       "      <th>feature_VarCF_ranked</th>\n",
       "      <th>feature_VolMkt_ranked</th>\n",
       "      <th>feature_VolSD_ranked</th>\n",
       "      <th>feature_VolumeTrend_ranked</th>\n",
       "      <th>feature_XFIN_ranked</th>\n",
       "      <th>feature_zerotrade_ranked</th>\n",
       "      <th>feature_zerotradeAlt1_ranked</th>\n",
       "      <th>feature_zerotradeAlt12_ranked</th>\n",
       "    </tr>\n",
       "    <tr>\n",
       "      <th>bloomberg_ticker</th>\n",
       "      <th></th>\n",
       "      <th></th>\n",
       "      <th></th>\n",
       "      <th></th>\n",
       "      <th></th>\n",
       "      <th></th>\n",
       "      <th></th>\n",
       "      <th></th>\n",
       "      <th></th>\n",
       "      <th></th>\n",
       "      <th></th>\n",
       "      <th></th>\n",
       "      <th></th>\n",
       "      <th></th>\n",
       "      <th></th>\n",
       "      <th></th>\n",
       "      <th></th>\n",
       "      <th></th>\n",
       "      <th></th>\n",
       "      <th></th>\n",
       "      <th></th>\n",
       "    </tr>\n",
       "  </thead>\n",
       "  <tbody>\n",
       "    <tr>\n",
       "      <th>A US</th>\n",
       "      <td>987</td>\n",
       "      <td>987</td>\n",
       "      <td>987</td>\n",
       "      <td>987</td>\n",
       "      <td>987</td>\n",
       "      <td>987</td>\n",
       "      <td>987</td>\n",
       "      <td>987</td>\n",
       "      <td>987</td>\n",
       "      <td>987</td>\n",
       "      <td>...</td>\n",
       "      <td>987</td>\n",
       "      <td>987</td>\n",
       "      <td>987</td>\n",
       "      <td>987</td>\n",
       "      <td>987</td>\n",
       "      <td>987</td>\n",
       "      <td>987</td>\n",
       "      <td>987</td>\n",
       "      <td>987</td>\n",
       "      <td>987</td>\n",
       "    </tr>\n",
       "    <tr>\n",
       "      <th>AA US</th>\n",
       "      <td>926</td>\n",
       "      <td>926</td>\n",
       "      <td>926</td>\n",
       "      <td>926</td>\n",
       "      <td>926</td>\n",
       "      <td>926</td>\n",
       "      <td>926</td>\n",
       "      <td>926</td>\n",
       "      <td>926</td>\n",
       "      <td>926</td>\n",
       "      <td>...</td>\n",
       "      <td>926</td>\n",
       "      <td>926</td>\n",
       "      <td>926</td>\n",
       "      <td>926</td>\n",
       "      <td>926</td>\n",
       "      <td>926</td>\n",
       "      <td>926</td>\n",
       "      <td>926</td>\n",
       "      <td>926</td>\n",
       "      <td>926</td>\n",
       "    </tr>\n",
       "    <tr>\n",
       "      <th>AAAP US</th>\n",
       "      <td>59</td>\n",
       "      <td>59</td>\n",
       "      <td>59</td>\n",
       "      <td>59</td>\n",
       "      <td>59</td>\n",
       "      <td>59</td>\n",
       "      <td>59</td>\n",
       "      <td>59</td>\n",
       "      <td>59</td>\n",
       "      <td>59</td>\n",
       "      <td>...</td>\n",
       "      <td>59</td>\n",
       "      <td>59</td>\n",
       "      <td>59</td>\n",
       "      <td>59</td>\n",
       "      <td>59</td>\n",
       "      <td>59</td>\n",
       "      <td>59</td>\n",
       "      <td>59</td>\n",
       "      <td>59</td>\n",
       "      <td>59</td>\n",
       "    </tr>\n",
       "    <tr>\n",
       "      <th>AAC US</th>\n",
       "      <td>70</td>\n",
       "      <td>70</td>\n",
       "      <td>70</td>\n",
       "      <td>70</td>\n",
       "      <td>70</td>\n",
       "      <td>70</td>\n",
       "      <td>70</td>\n",
       "      <td>70</td>\n",
       "      <td>70</td>\n",
       "      <td>70</td>\n",
       "      <td>...</td>\n",
       "      <td>70</td>\n",
       "      <td>70</td>\n",
       "      <td>70</td>\n",
       "      <td>70</td>\n",
       "      <td>70</td>\n",
       "      <td>70</td>\n",
       "      <td>70</td>\n",
       "      <td>70</td>\n",
       "      <td>70</td>\n",
       "      <td>70</td>\n",
       "    </tr>\n",
       "    <tr>\n",
       "      <th>AACC US</th>\n",
       "      <td>186</td>\n",
       "      <td>186</td>\n",
       "      <td>186</td>\n",
       "      <td>186</td>\n",
       "      <td>186</td>\n",
       "      <td>186</td>\n",
       "      <td>186</td>\n",
       "      <td>186</td>\n",
       "      <td>186</td>\n",
       "      <td>186</td>\n",
       "      <td>...</td>\n",
       "      <td>186</td>\n",
       "      <td>186</td>\n",
       "      <td>186</td>\n",
       "      <td>186</td>\n",
       "      <td>186</td>\n",
       "      <td>186</td>\n",
       "      <td>186</td>\n",
       "      <td>186</td>\n",
       "      <td>186</td>\n",
       "      <td>186</td>\n",
       "    </tr>\n",
       "    <tr>\n",
       "      <th>...</th>\n",
       "      <td>...</td>\n",
       "      <td>...</td>\n",
       "      <td>...</td>\n",
       "      <td>...</td>\n",
       "      <td>...</td>\n",
       "      <td>...</td>\n",
       "      <td>...</td>\n",
       "      <td>...</td>\n",
       "      <td>...</td>\n",
       "      <td>...</td>\n",
       "      <td>...</td>\n",
       "      <td>...</td>\n",
       "      <td>...</td>\n",
       "      <td>...</td>\n",
       "      <td>...</td>\n",
       "      <td>...</td>\n",
       "      <td>...</td>\n",
       "      <td>...</td>\n",
       "      <td>...</td>\n",
       "      <td>...</td>\n",
       "      <td>...</td>\n",
       "    </tr>\n",
       "    <tr>\n",
       "      <th>ZU US</th>\n",
       "      <td>29</td>\n",
       "      <td>29</td>\n",
       "      <td>29</td>\n",
       "      <td>29</td>\n",
       "      <td>29</td>\n",
       "      <td>29</td>\n",
       "      <td>29</td>\n",
       "      <td>29</td>\n",
       "      <td>29</td>\n",
       "      <td>29</td>\n",
       "      <td>...</td>\n",
       "      <td>29</td>\n",
       "      <td>29</td>\n",
       "      <td>29</td>\n",
       "      <td>29</td>\n",
       "      <td>29</td>\n",
       "      <td>29</td>\n",
       "      <td>29</td>\n",
       "      <td>29</td>\n",
       "      <td>29</td>\n",
       "      <td>29</td>\n",
       "    </tr>\n",
       "    <tr>\n",
       "      <th>ZUMZ US</th>\n",
       "      <td>811</td>\n",
       "      <td>811</td>\n",
       "      <td>811</td>\n",
       "      <td>811</td>\n",
       "      <td>811</td>\n",
       "      <td>811</td>\n",
       "      <td>811</td>\n",
       "      <td>811</td>\n",
       "      <td>811</td>\n",
       "      <td>811</td>\n",
       "      <td>...</td>\n",
       "      <td>811</td>\n",
       "      <td>811</td>\n",
       "      <td>811</td>\n",
       "      <td>811</td>\n",
       "      <td>811</td>\n",
       "      <td>811</td>\n",
       "      <td>811</td>\n",
       "      <td>811</td>\n",
       "      <td>811</td>\n",
       "      <td>811</td>\n",
       "    </tr>\n",
       "    <tr>\n",
       "      <th>ZUO US</th>\n",
       "      <td>128</td>\n",
       "      <td>128</td>\n",
       "      <td>128</td>\n",
       "      <td>128</td>\n",
       "      <td>128</td>\n",
       "      <td>128</td>\n",
       "      <td>128</td>\n",
       "      <td>128</td>\n",
       "      <td>128</td>\n",
       "      <td>128</td>\n",
       "      <td>...</td>\n",
       "      <td>128</td>\n",
       "      <td>128</td>\n",
       "      <td>128</td>\n",
       "      <td>128</td>\n",
       "      <td>128</td>\n",
       "      <td>128</td>\n",
       "      <td>128</td>\n",
       "      <td>128</td>\n",
       "      <td>128</td>\n",
       "      <td>128</td>\n",
       "    </tr>\n",
       "    <tr>\n",
       "      <th>ZYXI US</th>\n",
       "      <td>93</td>\n",
       "      <td>93</td>\n",
       "      <td>93</td>\n",
       "      <td>93</td>\n",
       "      <td>93</td>\n",
       "      <td>93</td>\n",
       "      <td>93</td>\n",
       "      <td>93</td>\n",
       "      <td>93</td>\n",
       "      <td>93</td>\n",
       "      <td>...</td>\n",
       "      <td>93</td>\n",
       "      <td>93</td>\n",
       "      <td>93</td>\n",
       "      <td>93</td>\n",
       "      <td>93</td>\n",
       "      <td>93</td>\n",
       "      <td>93</td>\n",
       "      <td>93</td>\n",
       "      <td>93</td>\n",
       "      <td>93</td>\n",
       "    </tr>\n",
       "    <tr>\n",
       "      <th>ZZ US</th>\n",
       "      <td>104</td>\n",
       "      <td>104</td>\n",
       "      <td>104</td>\n",
       "      <td>104</td>\n",
       "      <td>104</td>\n",
       "      <td>104</td>\n",
       "      <td>104</td>\n",
       "      <td>104</td>\n",
       "      <td>104</td>\n",
       "      <td>104</td>\n",
       "      <td>...</td>\n",
       "      <td>104</td>\n",
       "      <td>104</td>\n",
       "      <td>104</td>\n",
       "      <td>104</td>\n",
       "      <td>104</td>\n",
       "      <td>104</td>\n",
       "      <td>104</td>\n",
       "      <td>104</td>\n",
       "      <td>104</td>\n",
       "      <td>104</td>\n",
       "    </tr>\n",
       "  </tbody>\n",
       "</table>\n",
       "<p>5286 rows × 588 columns</p>\n",
       "</div>"
      ],
      "text/plain": [
       "                  era  target_4d  target_20d  raw_return_target_20d  \\\n",
       "bloomberg_ticker                                                      \n",
       "A US              987        987         987                    987   \n",
       "AA US             926        926         926                    926   \n",
       "AAAP US            59         59          59                     59   \n",
       "AAC US             70         70          70                     70   \n",
       "AACC US           186        186         186                    186   \n",
       "...               ...        ...         ...                    ...   \n",
       "ZU US              29         29          29                     29   \n",
       "ZUMZ US           811        811         811                    811   \n",
       "ZUO US            128        128         128                    128   \n",
       "ZYXI US            93         93          93                     93   \n",
       "ZZ US             104        104         104                    104   \n",
       "\n",
       "                  factor_neutral_target_20d  factor_feat_neutral_target_20d  \\\n",
       "bloomberg_ticker                                                              \n",
       "A US                                    987                             987   \n",
       "AA US                                   926                             926   \n",
       "AAAP US                                  59                              59   \n",
       "AAC US                                   70                              70   \n",
       "AACC US                                 186                             186   \n",
       "...                                     ...                             ...   \n",
       "ZU US                                    29                              29   \n",
       "ZUMZ US                                 811                             811   \n",
       "ZUO US                                  128                             128   \n",
       "ZYXI US                                  93                              93   \n",
       "ZZ US                                   104                             104   \n",
       "\n",
       "                  feature_momentum_21_ranked  feature_momentum_63_ranked  \\\n",
       "bloomberg_ticker                                                           \n",
       "A US                                     987                         987   \n",
       "AA US                                    926                         926   \n",
       "AAAP US                                   59                          59   \n",
       "AAC US                                    70                          70   \n",
       "AACC US                                  186                         186   \n",
       "...                                      ...                         ...   \n",
       "ZU US                                     29                          29   \n",
       "ZUMZ US                                  811                         811   \n",
       "ZUO US                                   128                         128   \n",
       "ZYXI US                                   93                          93   \n",
       "ZZ US                                    104                         104   \n",
       "\n",
       "                  feature_momentum_252_ranked  feature_volatility_21_ranked  \\\n",
       "bloomberg_ticker                                                              \n",
       "A US                                      987                           987   \n",
       "AA US                                     926                           926   \n",
       "AAAP US                                    59                            59   \n",
       "AAC US                                     70                            70   \n",
       "AACC US                                   186                           186   \n",
       "...                                       ...                           ...   \n",
       "ZU US                                      29                            29   \n",
       "ZUMZ US                                   811                           811   \n",
       "ZUO US                                    128                           128   \n",
       "ZYXI US                                    93                            93   \n",
       "ZZ US                                     104                           104   \n",
       "\n",
       "                  ...  feature_TrendFactor_ranked  feature_UpRecomm_ranked  \\\n",
       "bloomberg_ticker  ...                                                        \n",
       "A US              ...                         987                      987   \n",
       "AA US             ...                         926                      926   \n",
       "AAAP US           ...                          59                       59   \n",
       "AAC US            ...                          70                       70   \n",
       "AACC US           ...                         186                      186   \n",
       "...               ...                         ...                      ...   \n",
       "ZU US             ...                          29                       29   \n",
       "ZUMZ US           ...                         811                      811   \n",
       "ZUO US            ...                         128                      128   \n",
       "ZYXI US           ...                          93                       93   \n",
       "ZZ US             ...                         104                      104   \n",
       "\n",
       "                  feature_VarCF_ranked  feature_VolMkt_ranked  \\\n",
       "bloomberg_ticker                                                \n",
       "A US                               987                    987   \n",
       "AA US                              926                    926   \n",
       "AAAP US                             59                     59   \n",
       "AAC US                              70                     70   \n",
       "AACC US                            186                    186   \n",
       "...                                ...                    ...   \n",
       "ZU US                               29                     29   \n",
       "ZUMZ US                            811                    811   \n",
       "ZUO US                             128                    128   \n",
       "ZYXI US                             93                     93   \n",
       "ZZ US                              104                    104   \n",
       "\n",
       "                  feature_VolSD_ranked  feature_VolumeTrend_ranked  \\\n",
       "bloomberg_ticker                                                     \n",
       "A US                               987                         987   \n",
       "AA US                              926                         926   \n",
       "AAAP US                             59                          59   \n",
       "AAC US                              70                          70   \n",
       "AACC US                            186                         186   \n",
       "...                                ...                         ...   \n",
       "ZU US                               29                          29   \n",
       "ZUMZ US                            811                         811   \n",
       "ZUO US                             128                         128   \n",
       "ZYXI US                             93                          93   \n",
       "ZZ US                              104                         104   \n",
       "\n",
       "                  feature_XFIN_ranked  feature_zerotrade_ranked  \\\n",
       "bloomberg_ticker                                                  \n",
       "A US                              987                       987   \n",
       "AA US                             926                       926   \n",
       "AAAP US                            59                        59   \n",
       "AAC US                             70                        70   \n",
       "AACC US                           186                       186   \n",
       "...                               ...                       ...   \n",
       "ZU US                              29                        29   \n",
       "ZUMZ US                           811                       811   \n",
       "ZUO US                            128                       128   \n",
       "ZYXI US                            93                        93   \n",
       "ZZ US                             104                       104   \n",
       "\n",
       "                  feature_zerotradeAlt1_ranked  feature_zerotradeAlt12_ranked  \n",
       "bloomberg_ticker                                                               \n",
       "A US                                       987                            987  \n",
       "AA US                                      926                            926  \n",
       "AAAP US                                     59                             59  \n",
       "AAC US                                      70                             70  \n",
       "AACC US                                    186                            186  \n",
       "...                                        ...                            ...  \n",
       "ZU US                                       29                             29  \n",
       "ZUMZ US                                    811                            811  \n",
       "ZUO US                                     128                            128  \n",
       "ZYXI US                                     93                             93  \n",
       "ZZ US                                      104                            104  \n",
       "\n",
       "[5286 rows x 588 columns]"
      ]
     },
     "execution_count": 12,
     "metadata": {},
     "output_type": "execute_result"
    }
   ],
   "source": [
    "train_data.groupby('bloomberg_ticker').count()"
   ]
  },
  {
   "cell_type": "code",
   "execution_count": null,
   "metadata": {},
   "outputs": [],
   "source": []
  },
  {
   "cell_type": "code",
   "execution_count": 3,
   "metadata": {},
   "outputs": [],
   "source": [
    "## Read Train Data\n",
    "target = pd.read_parquet(\"../signals-data/numerai_signals_target_2021.parquet\").dropna()\n",
    "target = target[\n",
    "    (target[\"era\"] <= \"2021-12-31\") & (target[\"era\"] >= \"2002-12-31\")\n",
    "]\n",
    "train_data = target.copy()\n",
    "\n",
    "features_metadata = dict()\n",
    "features_metadata['feature_sets'] = dict()\n",
    "\n",
    "for feature_set in ['stats', 'signature', 'catch22', ]:\n",
    "    feature_normalised = pd.read_parquet(f'../signals-data/numerai_signals_features_{feature_set}_normalised.parquet').astype(np.int8)\n",
    "    feature_col = [col for col in feature_normalised.columns if not col.__contains__(\"sector_ranked\")] \n",
    "    features_metadata['feature_sets'][feature_set] = feature_col\n",
    "    train_data = train_data.merge(feature_normalised[feature_col],how='inner',left_index=True, right_index=True)\n"
   ]
  },
  {
   "cell_type": "code",
   "execution_count": 5,
   "metadata": {},
   "outputs": [],
   "source": [
    "train_data.to_parquet(\"../signals-data/numerai_signals_features_price.parquet\")"
   ]
  },
  {
   "cell_type": "code",
   "execution_count": 6,
   "metadata": {},
   "outputs": [],
   "source": [
    "import json\n",
    "with open(\"../signals-data/numerai_signals_features_price_metadata.json\", \"w\") as f:\n",
    "    json.dump(features_metadata,f)"
   ]
  },
  {
   "cell_type": "code",
   "execution_count": null,
   "metadata": {},
   "outputs": [],
   "source": []
  },
  {
   "cell_type": "code",
   "execution_count": null,
   "metadata": {},
   "outputs": [],
   "source": []
  },
  {
   "cell_type": "code",
   "execution_count": null,
   "metadata": {},
   "outputs": [],
   "source": []
  },
  {
   "cell_type": "code",
   "execution_count": 1,
   "metadata": {},
   "outputs": [],
   "source": [
    "import pandas as pd\n",
    "import numpy as np\n",
    "import json"
   ]
  },
  {
   "cell_type": "code",
   "execution_count": 4,
   "metadata": {},
   "outputs": [],
   "source": [
    "for feature_set in ['stats', 'signature', 'catch22', 'ravenpack', 'financials', ]:\n",
    "    \n",
    "    features_metadata = dict()\n",
    "    features_metadata['feature_sets'] = dict()\n",
    "    \n",
    "    ## Read Train Data\n",
    "    target = pd.read_parquet(\"../signals-data/numerai_signals_target_2021.parquet\").dropna()\n",
    "    target = target[\n",
    "        (target[\"era\"] <= \"2021-12-31\") & (target[\"era\"] >= \"2002-12-31\")\n",
    "    ]\n",
    "    train_data = target.copy()\n",
    "    \n",
    "    feature_normalised = pd.read_parquet(f'../signals-data/numerai_signals_features_{feature_set}_normalised.parquet').astype(np.int8)\n",
    "    feature_col = [col for col in feature_normalised.columns if not col.__contains__(\"sector_ranked\")] \n",
    "    features_metadata['feature_sets'][feature_set] = feature_col\n",
    "    train_data = train_data.merge(feature_normalised[feature_col],how='inner',left_index=True, right_index=True)\n",
    "    train_data.to_parquet(f\"../signals-data/numerai_signals_features_{feature_set}.parquet\")\n",
    "    \n",
    "    import json\n",
    "    with open(f\"../signals-data/numerai_signals_features_{feature_set}_metadata.json\", \"w\") as f:\n",
    "        json.dump(features_metadata,f)"
   ]
  },
  {
   "cell_type": "code",
   "execution_count": null,
   "metadata": {},
   "outputs": [],
   "source": []
  },
  {
   "cell_type": "code",
   "execution_count": 20,
   "metadata": {},
   "outputs": [],
   "source": [
    "import numpy as np"
   ]
  },
  {
   "cell_type": "code",
   "execution_count": 27,
   "metadata": {},
   "outputs": [],
   "source": [
    "for feature_set in ['baseline', ]:\n",
    "    \n",
    "    features_metadata = dict()\n",
    "    features_metadata['feature_sets'] = dict()\n",
    "    \n",
    "    ## Read Train Data\n",
    "    target = pd.read_parquet(\"../signals-data/numerai_signals_target_2021.parquet\").dropna()\n",
    "    target = target[\n",
    "        (target[\"era\"] <= \"2021-12-31\") & (target[\"era\"] >= \"2002-12-31\")\n",
    "    ]\n",
    "    train_data = target.copy()\n",
    "    \n",
    "    feature_normalised = pd.read_parquet(f'../signals-data/numerai_signals_features_{feature_set}.parquet')\n",
    "\n",
    "    #arrays = [feature_normalised.index.get_level_values('friday_date').values, feature_normalised.index.get_level_values('bloomberg_ticker').values]\n",
    "    #feature_normalised.index = pd.MultiIndex.from_arrays(arrays, names=('friday_date', 'bloomberg_ticker'))\n",
    "    #feature_normalised.reindex(target.index).dropna().to_parquet(f\"../signals-data/numerai_signals_features_{feature_set}.parquet\")\n",
    "    \n",
    "    import json\n",
    "    with open(f\"../signals-data/numerai_signals_features_{feature_set}_metadata.json\", \"w\") as f:\n",
    "        json.dump(features_metadata,f)"
   ]
  },
  {
   "cell_type": "code",
   "execution_count": null,
   "metadata": {},
   "outputs": [],
   "source": []
  },
  {
   "cell_type": "code",
   "execution_count": null,
   "metadata": {},
   "outputs": [],
   "source": []
  },
  {
   "cell_type": "code",
   "execution_count": 6,
   "metadata": {},
   "outputs": [],
   "source": [
    "import pandas as pd\n",
    "df = pd.read_parquet(\"../signals-data/numerai_signals_features_all.parquet\").dropna()"
   ]
  },
  {
   "cell_type": "code",
   "execution_count": 16,
   "metadata": {},
   "outputs": [
    {
     "data": {
      "image/png": "[encoded data removed]",
      "text/plain": [
       "<Figure size 432x288 with 1 Axes>"
      ]
     },
     "metadata": {
      "needs_background": "light"
     },
     "output_type": "display_data"
    }
   ],
   "source": [
    "fig = df.groupby('era')['target_20d'].agg(['count']).iloc[:-26].plot()"
   ]
  },
  {
   "cell_type": "code",
   "execution_count": 18,
   "metadata": {},
   "outputs": [],
   "source": [
    "fig.figure.savefig('Numerai-Signals-universe.jpg')"
   ]
  },
  {
   "cell_type": "code",
   "execution_count": null,
   "metadata": {},
   "outputs": [],
   "source": []
  }
 ],
 "metadata": {
  "kernelspec": {
   "display_name": "Python 3 (ipykernel)",
   "language": "python",
   "name": "python3"
  },
  "language_info": {
   "codemirror_mode": {
    "name": "ipython",
    "version": 3
   },
   "file_extension": ".py",
   "mimetype": "text/x-python",
   "name": "python",
   "nbconvert_exporter": "python",
   "pygments_lexer": "ipython3",
   "version": "3.7.12"
  }
 },
 "nbformat": 4,
 "nbformat_minor": 4
}
