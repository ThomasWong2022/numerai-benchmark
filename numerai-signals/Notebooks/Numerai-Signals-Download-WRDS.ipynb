{
 "cells": [
  {
   "cell_type": "code",
   "execution_count": 14,
   "metadata": {},
   "outputs": [
    {
     "name": "stdout",
     "output_type": "stream",
     "text": [
      "Loading library list...\n"
     ]
    },
    {
     "name": "stderr",
     "output_type": "stream",
     "text": [
      "Exception during reset or similar\n",
      "Traceback (most recent call last):\n",
      "  File \"/home/thomas/anaconda3/lib/python3.8/site-packages/sqlalchemy/pool/base.py\", line 739, in _finalize_fairy\n",
      "    fairy._reset(pool)\n",
      "  File \"/home/thomas/anaconda3/lib/python3.8/site-packages/sqlalchemy/pool/base.py\", line 988, in _reset\n",
      "    pool._dialect.do_rollback(self)\n",
      "  File \"/home/thomas/anaconda3/lib/python3.8/site-packages/sqlalchemy/engine/default.py\", line 669, in do_rollback\n",
      "    dbapi_connection.rollback()\n",
      "psycopg2.OperationalError: SSL SYSCALL error: EOF detected\n",
      "\n"
     ]
    },
    {
     "name": "stdout",
     "output_type": "stream",
     "text": [
      "Done\n"
     ]
    }
   ],
   "source": [
    "import wrds\n",
    "import numpy as np\n",
    "import pandas as pd \n",
    "import os.path\n",
    "## provide your username \n",
    "db = wrds.Connection(wrds_username='mw4315ic')\n"
   ]
  },
  {
   "cell_type": "code",
   "execution_count": null,
   "metadata": {},
   "outputs": [],
   "source": []
  },
  {
   "cell_type": "code",
   "execution_count": null,
   "metadata": {},
   "outputs": [],
   "source": []
  },
  {
   "cell_type": "markdown",
   "metadata": {},
   "source": [
    "## Reference Data \n",
    "\n",
    "We download reference data from different data vendors on WRDS and create our merged metadata file. \n",
    "\n",
    "\n",
    "- crsp_q_ccm.ccm_lookup (Compustat CRSP Link)\n",
    "- crsp_q_ccm.sechist (Compustat security hist)\n",
    "- crsp_q_ccm.comphist (Compustat company hist)\n",
    "\n",
    "\n",
    "- comp_na_daily_all.r_ex_codes (Exchange Codes)\n",
    "- comp_na_daily_all.r_hcalendr (Holiday) \n",
    "- comp_na_daily_all.r_giccd (Global Industry Code)\n",
    "\n",
    "- comp.names (Company Names for Fundamentals)\n",
    "- comp.security (Security Information for Price) \n",
    "\n",
    "- crspq.dsenames (CRSP names)\n",
    "- crsp_q_indexhist.index_descriptions (CRSP Index Metadata)\n",
    "\n",
    "\n",
    "- optionm.securd (Option Metrics Metadata)\n",
    "- optionm.secnmd (Option Metrics Names)\n",
    "- optionm.zerocd (Option Metrics Zerocurve) \n"
   ]
  },
  {
   "cell_type": "code",
   "execution_count": 13,
   "metadata": {},
   "outputs": [],
   "source": [
    "refyear = 2021 "
   ]
  },
  {
   "cell_type": "code",
   "execution_count": null,
   "metadata": {},
   "outputs": [],
   "source": []
  },
  {
   "cell_type": "code",
   "execution_count": null,
   "metadata": {},
   "outputs": [],
   "source": [
    "sql_command = \"SELECT crsp_q_ccm.ccm_lookup.* \\\n",
    "FROM crsp_q_ccm.ccm_lookup \"\n",
    "gvkey = db.raw_sql(sql_command).to_csv('../../data/Compustat_CRSP_link_{}.csv'.format(refyear),index=False)"
   ]
  },
  {
   "cell_type": "code",
   "execution_count": null,
   "metadata": {},
   "outputs": [],
   "source": [
    "sql_command = \"SELECT crsp_q_ccm.sechist.* \\\n",
    "FROM crsp_q_ccm.sechist \"\n",
    "gvkey = db.raw_sql(sql_command).to_csv('../../data/Compustat_security_hist_{}.csv'.format(refyear),index=False)"
   ]
  },
  {
   "cell_type": "code",
   "execution_count": null,
   "metadata": {},
   "outputs": [],
   "source": [
    "sql_command = \"SELECT crsp_q_ccm.comphist.* \\\n",
    "FROM crsp_q_ccm.comphist \"\n",
    "gvkey = db.raw_sql(sql_command).to_csv('../../data/Compustat_company_hist_{}.csv'.format(refyear),index=False)"
   ]
  },
  {
   "cell_type": "code",
   "execution_count": null,
   "metadata": {},
   "outputs": [],
   "source": []
  },
  {
   "cell_type": "code",
   "execution_count": null,
   "metadata": {},
   "outputs": [],
   "source": []
  },
  {
   "cell_type": "code",
   "execution_count": null,
   "metadata": {},
   "outputs": [],
   "source": [
    "sql_command = \"SELECT comp.r_hcalendr.* \\\n",
    "FROM comp.r_hcalendr \"\n",
    "gvkey = db.raw_sql(sql_command).to_csv('../../data/Compustat_holiday_{}.csv'.format(refyear),index=False)"
   ]
  },
  {
   "cell_type": "code",
   "execution_count": null,
   "metadata": {},
   "outputs": [],
   "source": [
    "sql_command = \"SELECT comp.r_ex_codes.* \\\n",
    "FROM comp.r_ex_codes \"\n",
    "gvkey = db.raw_sql(sql_command).to_csv('../../data/Compustat_exchage_code_{}.csv'.format(refyear),index=False)"
   ]
  },
  {
   "cell_type": "code",
   "execution_count": 24,
   "metadata": {},
   "outputs": [],
   "source": [
    "##\n",
    "sql_command = \"SELECT comp.r_giccd.* \\\n",
    "FROM comp.r_giccd \"\n",
    "gvkey = db.raw_sql(sql_command).to_csv('../../data/Compustat_industry_code_{}.csv'.format(refyear),index=False)"
   ]
  },
  {
   "cell_type": "code",
   "execution_count": null,
   "metadata": {},
   "outputs": [],
   "source": []
  },
  {
   "cell_type": "code",
   "execution_count": null,
   "metadata": {},
   "outputs": [],
   "source": []
  },
  {
   "cell_type": "code",
   "execution_count": null,
   "metadata": {},
   "outputs": [],
   "source": [
    "### Compustat Current Names \n",
    "\n",
    "sql_command = \"SELECT comp.names.* \\\n",
    "FROM comp.names \"\n",
    "gvkey = db.raw_sql(sql_command)\n",
    "gvkey.sort_values('year2').to_csv('../../data/Compustat_us_names_{}.csv'.format(refyear),index=False)\n",
    "\n",
    "sql_command = \"SELECT comp.g_names.* \\\n",
    "FROM comp.g_names \"\n",
    "gvkey = db.raw_sql(sql_command)\n",
    "gvkey.sort_values('year2').to_csv('../../data/Compustat_international_names_{}.csv'.format(refyear),index=False)\n",
    "\n",
    "sql_command = \"SELECT comp.security.* \\\n",
    "FROM comp.security \"\n",
    "gvkey = db.raw_sql(sql_command).sort_values('dldtei').to_csv('../../data/Compustat_us_security_{}.csv'.format(refyear),index=False)\n",
    "\n",
    "sql_command = \"SELECT comp.g_security.* \\\n",
    "FROM comp.g_security \"\n",
    "gvkey = db.raw_sql(sql_command).sort_values('dldtei').to_csv('../../data/Compustat_international_security_{}.csv'.format(refyear),index=False)"
   ]
  },
  {
   "cell_type": "code",
   "execution_count": null,
   "metadata": {},
   "outputs": [],
   "source": []
  },
  {
   "cell_type": "code",
   "execution_count": null,
   "metadata": {},
   "outputs": [],
   "source": [
    "## CRSP metadata\n",
    "sql_command = \"SELECT crspq.dsenames.* \\\n",
    "FROM crspq.dsenames\"\n",
    "CRSP = db.raw_sql(sql_command)\n",
    "CRSP.to_csv('../../data/CRSP_names_{}.csv'.format(refyear),index=False)\n",
    "\n",
    "sql_command = \"SELECT crsp_q_indexhist.index_descriptions.* \\\n",
    "FROM crsp_q_indexhist.index_descriptions \"\n",
    "gvkey = db.raw_sql(sql_command)\n",
    "gvkey.to_csv('../../data/CRSP_index_metadata.csv'.format(),index=False)\n"
   ]
  },
  {
   "cell_type": "code",
   "execution_count": null,
   "metadata": {},
   "outputs": [],
   "source": [
    "\n",
    "\n",
    "## Option Metrics metadata\n",
    "sql_command = \"SELECT optionm.securd.* \\\n",
    "FROM optionm.securd \"\n",
    "secid = db.raw_sql(sql_command)\n",
    "secid.to_csv('../../data/Option_Metrics_metadata_{}.csv'.format(refyear),index=False)\n",
    "\n",
    "\n",
    "## Option Metrics names\n",
    "sql_command = \"SELECT optionm.secnmd.* \\\n",
    "FROM optionm.secnmd \"\n",
    "secid = db.raw_sql(sql_command).sort_values('effect_date')\n",
    "secid.to_csv('../../data/Option_Metrics_names_{}.csv'.format(refyear),index=False)\n",
    "\n",
    "\n",
    "## Option Metrics Zero Curve\n",
    "sql_command = \"SELECT optionm.zerocd.* \\\n",
    "FROM optionm.zerocd \"\n",
    "Curve = db.raw_sql(sql_command)\n",
    "Curve.sort_values('date').to_csv('../../data/Option_Metrics_zerocurve_{}.gz'.format(refyear),index=False)"
   ]
  },
  {
   "cell_type": "code",
   "execution_count": null,
   "metadata": {},
   "outputs": [],
   "source": []
  },
  {
   "cell_type": "code",
   "execution_count": null,
   "metadata": {},
   "outputs": [],
   "source": [
    "## RavenPack mapping  for both company and data sources \n",
    "sql_command = \"SELECT rpa.wrds_rpa_all_mappings.* \\\n",
    "FROM rpa.wrds_rpa_all_mappings \"\n",
    "Curve = db.raw_sql(sql_command)\n",
    "Curve.to_csv('../../data/Ravenpack_wrds_rpa_all_mappings_{}.csv'.format(refyear),index=False)\n",
    "\n",
    "## Raven Pack Historical map between cusip and ravenpack entity id \n",
    "sql_command = \"SELECT rpa.wrds_rpa_company_names.* \\\n",
    "FROM rpa.wrds_rpa_company_names \"\n",
    "Curve = db.raw_sql(sql_command)\n",
    "Curve.to_csv('../../data/Ravenpack_wrds_rpa_company_names_{}.csv'.format(refyear),index=False)"
   ]
  },
  {
   "cell_type": "code",
   "execution_count": null,
   "metadata": {},
   "outputs": [],
   "source": [
    "tables = ['rpa_source_list','rpa_taxonomy', 'rpa_company_mappings', 'rpa_entity_mappings',]\n",
    "for table in tables:\n",
    "    sql_command = \"SELECT rpa.{}.* \\\n",
    "    FROM rpa.{}\".format(table,table)\n",
    "    df = db.raw_sql(sql_command)\n",
    "    df.to_csv('../../data/Ravenpack_{}_{}.csv'.format(table,refyear),index=False)"
   ]
  },
  {
   "cell_type": "code",
   "execution_count": null,
   "metadata": {},
   "outputs": [],
   "source": []
  },
  {
   "cell_type": "code",
   "execution_count": null,
   "metadata": {},
   "outputs": [],
   "source": []
  },
  {
   "cell_type": "code",
   "execution_count": null,
   "metadata": {},
   "outputs": [],
   "source": []
  },
  {
   "cell_type": "code",
   "execution_count": null,
   "metadata": {},
   "outputs": [],
   "source": []
  },
  {
   "cell_type": "code",
   "execution_count": null,
   "metadata": {},
   "outputs": [],
   "source": []
  },
  {
   "cell_type": "markdown",
   "metadata": {},
   "source": [
    "## Fundamentals \n",
    "\n",
    "Fundamentals from Compustat "
   ]
  },
  {
   "cell_type": "code",
   "execution_count": 59,
   "metadata": {},
   "outputs": [],
   "source": [
    "def download_compustat_fundmentals(year,database='fundamentals_year',download=True,refyear=2020):\n",
    "    database_map = {'us_fundamentals_year':'FUNDA',\n",
    "                    'us_fundamentals_quarter': 'FUNDQ',\n",
    "                    'international_fundamentals_year':'G_FUNDA',\n",
    "                    'international_fundamentals_quarter': 'G_FUNDQ',\n",
    "                    'us_industry_year':'aco_indsta',\n",
    "                    'us_industry_quarter':'aco_indstq',\n",
    "                    'us_bank_year': 'bank_funda',\n",
    "                    'us_bank_quarter': 'bank_fundq',\n",
    "                    'us_segments': 'wrds_segmerged',\n",
    "                    'us_segments_customer': 'wrds_seg_customer',\n",
    "                    'us_segments_geo': 'wrds_seg_geo',\n",
    "                    'us_segments_product': 'wrds_seg_product',\n",
    "                   }\n",
    "    \n",
    "    \n",
    "    filename = '../../data/Compustat_Fundamentals/{}_{}.parquet'.format(database,year)\n",
    "    if os.path.isfile(filename) and year<=refyear:\n",
    "        return True \n",
    "        \n",
    "    start = '{}-{}-{}'.format(year,1,1)\n",
    "    end = '{}-{}-{}'.format(year,12,31)\n",
    "    # download security price \n",
    "    if database in ['us_segments_customer', 'us_segments_geo', 'us_segments_product',]:\n",
    "        sql_command = \"SELECT data.*  \\\n",
    "        FROM comp.{} AS data \\\n",
    "        WHERE data.srcdate >= '{}' AND data.srcdate <= '{}' \\\n",
    "        \".format(database_map[database],start,end)\n",
    "    else:\n",
    "            sql_command = \"SELECT data.*  \\\n",
    "            FROM comp.{} AS data \\\n",
    "            WHERE data.datadate >= '{}' AND data.datadate <= '{}' \\\n",
    "            \".format(database_map[database],start,end)\n",
    "    secprice_df = db.raw_sql(sql_command)\n",
    "    secprice_df.drop_duplicates(inplace=True)\n",
    "    if secprice_df.shape[0] < 1:\n",
    "        return None \n",
    "    if download:\n",
    "        secprice_df.to_parquet(filename,index=False)\n",
    "    return secprice_df        "
   ]
  },
  {
   "cell_type": "code",
   "execution_count": null,
   "metadata": {},
   "outputs": [],
   "source": [
    "for year in range(2021,1949,-1):\n",
    "    for database in ['us_fundamentals_year','us_fundamentals_quarter','us_industry_year','us_industry_quarter','us_bank_year','us_bank_quarter']:\n",
    "        download_compustat_fundmentals(year,database=database)"
   ]
  },
  {
   "cell_type": "code",
   "execution_count": null,
   "metadata": {},
   "outputs": [],
   "source": []
  },
  {
   "cell_type": "code",
   "execution_count": null,
   "metadata": {},
   "outputs": [],
   "source": []
  },
  {
   "cell_type": "markdown",
   "metadata": {},
   "source": [
    "### CRSP \n",
    "\n",
    "Download from crspq which updates quarterly (Feb/May/Aug/Nov) "
   ]
  },
  {
   "cell_type": "code",
   "execution_count": null,
   "metadata": {},
   "outputs": [],
   "source": [
    "def download_crsp_price(year=1961,refyear=2020):\n",
    "    filename = '../../data/CRSP/CRSP_{}_price.parquet'.format(year)\n",
    "    print(filename)\n",
    "    if os.path.isfile(filename) and year<=refyear:\n",
    "        return True\n",
    "    start = '{}-{}-{}'.format(year,1,1)\n",
    "    end = '{}-{}-{}'.format(year,12,31)\n",
    "    sql_command = \"SELECT price.* \\\n",
    "    FROM crspq.dsf as price \\\n",
    "    WHERE price.date >= '{}' AND price.date <= '{}' \".format(start,end)\n",
    "    sample = db.raw_sql(sql_command)\n",
    "    price_df = db.raw_sql(sql_command)\n",
    "    price_df.to_parquet(filename,index=False)\n",
    "    return price_df"
   ]
  },
  {
   "cell_type": "code",
   "execution_count": null,
   "metadata": {},
   "outputs": [],
   "source": [
    "for year in range(2021,1925,-1):\n",
    "    download_crsp_price(year)"
   ]
  },
  {
   "cell_type": "code",
   "execution_count": null,
   "metadata": {},
   "outputs": [],
   "source": []
  },
  {
   "cell_type": "code",
   "execution_count": null,
   "metadata": {},
   "outputs": [],
   "source": []
  },
  {
   "cell_type": "code",
   "execution_count": null,
   "metadata": {},
   "outputs": [],
   "source": []
  },
  {
   "cell_type": "code",
   "execution_count": null,
   "metadata": {},
   "outputs": [],
   "source": []
  },
  {
   "cell_type": "markdown",
   "metadata": {},
   "source": [
    "### Raven Pack Sentiment \n",
    "\n",
    "https://wrds-www.wharton.upenn.edu/pages/get-data/ravenpack-news-analytics-40/"
   ]
  },
  {
   "cell_type": "code",
   "execution_count": 19,
   "metadata": {},
   "outputs": [],
   "source": [
    "def download_ravenpack_data(year, month, database='equities', refyear=2021, download=True):\n",
    "    database_map = {\n",
    "                     'equities': 'rpa_full_equities_',\n",
    "                   }   \n",
    "    filename = '../../data/Ravenpack/Ravenpack_{}_{}_{}.parquet'.format(database,year,month)\n",
    "    if os.path.isfile(filename) and year<=refyear:\n",
    "        return True \n",
    "    start = '{}-{}-{}'.format(year,month,1)\n",
    "    if month < 12: \n",
    "        end = '{}-{}-{}'.format(year,month+1,1)  \n",
    "    else:\n",
    "        end = '{}-{}-{}'.format(year+1,1,1) \n",
    "    # download option implied volatilities\n",
    "    sql_command = \"SELECT op.* \\\n",
    "    FROM rpa.{}{} AS op \\\n",
    "    WHERE op.rpa_date_utc >= '{}' AND op.rpa_date_utc < '{}' AND op.event_relevance IS NOT NULL \\\n",
    "    \".format(database_map[database],year,start,end)\n",
    "    ## Download Data \n",
    "    secprice_df = db.raw_sql(sql_command)\n",
    "    secprice_df.drop_duplicates(inplace=True)\n",
    "    if secprice_df.shape[0] < 1:\n",
    "        return None \n",
    "    if download:\n",
    "        secprice_df.to_parquet(filename,index=False)\n",
    "        print(filename,secprice_df.shape)\n",
    "    return None \n",
    "\n",
    "\n"
   ]
  },
  {
   "cell_type": "code",
   "execution_count": null,
   "metadata": {},
   "outputs": [
    {
     "name": "stdout",
     "output_type": "stream",
     "text": [
      "Ravenpack/Ravenpack_equities_2000_5.parquet (137378, 52)\n",
      "Ravenpack/Ravenpack_equities_2000_6.parquet (136385, 52)\n",
      "Ravenpack/Ravenpack_equities_2000_7.parquet (158449, 52)\n",
      "Ravenpack/Ravenpack_equities_2000_8.parquet (168446, 52)\n",
      "Ravenpack/Ravenpack_equities_2000_9.parquet (138487, 52)\n",
      "Ravenpack/Ravenpack_equities_2000_10.parquet (56416, 52)\n",
      "Ravenpack/Ravenpack_equities_2000_11.parquet (52157, 52)\n",
      "Ravenpack/Ravenpack_equities_2000_12.parquet (42823, 52)\n"
     ]
    }
   ],
   "source": [
    "for year in range(2022,2023):\n",
    "    for month in range(1,13):\n",
    "        download_ravenpack_data(year,month,database='equities')"
   ]
  },
  {
   "cell_type": "code",
   "execution_count": null,
   "metadata": {},
   "outputs": [],
   "source": []
  },
  {
   "cell_type": "code",
   "execution_count": 62,
   "metadata": {},
   "outputs": [],
   "source": [
    "## Global Macro Data from Bloomberg, Reuters, Financial Times, Wall Street Journal, The Econmists, Dow Jones Newswire \n",
    "\n",
    "def download_ravenpack_global_macro(year, month, database='global_macro', refyear=2021, download=True):\n",
    "    database_map = {\n",
    "                     'global_macro': 'rpa_full_global_macro_',\n",
    "                   }   \n",
    "    filename = '../../data/Ravenpack/Ravenpack_{}_{}_{}.parquet'.format(database,year,month)\n",
    "    if os.path.isfile(filename) and year<=refyear:\n",
    "        return True \n",
    "    start = '{}-{}-{}'.format(year,month,1)\n",
    "    if month < 12: \n",
    "        end = '{}-{}-{}'.format(year,month+1,1)  \n",
    "    else:\n",
    "        end = '{}-{}-{}'.format(year+1,1,1) \n",
    "    # download option implied volatilities\n",
    "    sql_command = \"SELECT op.* \\\n",
    "    FROM rpa.{}{} AS op \\\n",
    "    WHERE op.rpa_date_utc >= '{}' AND op.rpa_date_utc < '{}' AND op.event_relevance IS NOT NULL  \\\n",
    "    \".format(database_map[database],year,start,end)\n",
    "    ## Download Data \n",
    "    secprice_df = db.raw_sql(sql_command)\n",
    "    secprice_df.drop_duplicates(inplace=True)\n",
    "    if secprice_df.shape[0] < 0:\n",
    "        print(filename,secprice_df.shape)\n",
    "        return None \n",
    "    if download:\n",
    "        secprice_df.to_parquet(filename,index=False)\n",
    "        print(filename,secprice_df.shape)\n",
    "    return None "
   ]
  },
  {
   "cell_type": "code",
   "execution_count": null,
   "metadata": {},
   "outputs": [],
   "source": [
    "for year in range(2022,2023):\n",
    "    for month in range(1,13):\n",
    "        download_ravenpack_global_macro(year,month,database='global_macro')"
   ]
  },
  {
   "cell_type": "code",
   "execution_count": null,
   "metadata": {},
   "outputs": [],
   "source": []
  },
  {
   "cell_type": "code",
   "execution_count": null,
   "metadata": {},
   "outputs": [],
   "source": []
  },
  {
   "cell_type": "code",
   "execution_count": null,
   "metadata": {},
   "outputs": [],
   "source": []
  }
 ],
 "metadata": {
  "kernelspec": {
   "display_name": "Python 3 (ipykernel)",
   "language": "python",
   "name": "python3"
  },
  "language_info": {
   "codemirror_mode": {
    "name": "ipython",
    "version": 3
   },
   "file_extension": ".py",
   "mimetype": "text/x-python",
   "name": "python",
   "nbconvert_exporter": "python",
   "pygments_lexer": "ipython3",
   "version": "3.7.12"
  },
  "metadata": {
   "interpreter": {
    "hash": "b7dce63e39a4a8c98f5a1ef1e65571106e15efed32663927d397570964b86d03"
   }
  }
 },
 "nbformat": 4,
 "nbformat_minor": 4
}
